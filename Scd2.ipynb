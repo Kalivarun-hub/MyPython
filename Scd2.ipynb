{
 "cells": [
  {
   "cell_type": "code",
   "execution_count": 1,
   "id": "bfa8cae8-25b2-443f-9632-956e39944935",
   "metadata": {},
   "outputs": [],
   "source": [
    "import pandas as pd\n",
    "import sqlalchemy as sal\n",
    "engine=sal.create_engine(r\"mssql://KALIVARUN\\MSSQL/master?driver=ODBC+DRIVER+17+FOR+SQL+SERVER\")\n",
    "conn=engine.connect()"
   ]
  },
  {
   "cell_type": "code",
   "execution_count": 38,
   "id": "cfba106b-2034-4bc0-b32a-c8309db66b67",
   "metadata": {},
   "outputs": [],
   "source": [
    "def extract():\n",
    "   df_products=pd.read_csv(\"products.txt\")\n",
    "   df_product_dim = pd.read_sql_query(\"select * from product_dim\" ,conn)\n",
    "   return(df_products,df_product_dim)\n",
    "\n",
    "\n",
    "def transform():\n",
    "    df_merge=pd.merge(df_products,df_product_dim,how=\"inner\",on=\"product_id\")\n",
    "    # df_product_dim[\"startdate\"]='2025-05-01'\n",
    "    # df_product_dim[\"enddate\"]='9999-12-31'\n",
    "    # df_insert=\n",
    "    return (df_merge)"
   ]
  },
  {
   "cell_type": "code",
   "execution_count": 39,
   "id": "f7ee2445-8a43-4c11-ba3c-3a68b63110b3",
   "metadata": {},
   "outputs": [],
   "source": [
    "df_products,df_product_dim=extract()"
   ]
  },
  {
   "cell_type": "code",
   "execution_count": 24,
   "id": "9a089dd8-6ba8-432a-85f7-a608de7d0685",
   "metadata": {},
   "outputs": [
    {
     "data": {
      "text/html": [
       "<div>\n",
       "<style scoped>\n",
       "    .dataframe tbody tr th:only-of-type {\n",
       "        vertical-align: middle;\n",
       "    }\n",
       "\n",
       "    .dataframe tbody tr th {\n",
       "        vertical-align: top;\n",
       "    }\n",
       "\n",
       "    .dataframe thead th {\n",
       "        text-align: right;\n",
       "    }\n",
       "</style>\n",
       "<table border=\"1\" class=\"dataframe\">\n",
       "  <thead>\n",
       "    <tr style=\"text-align: right;\">\n",
       "      <th></th>\n",
       "      <th>product_key</th>\n",
       "      <th>product_id</th>\n",
       "      <th>product_name</th>\n",
       "      <th>price</th>\n",
       "      <th>startdate</th>\n",
       "      <th>enddate</th>\n",
       "    </tr>\n",
       "  </thead>\n",
       "  <tbody>\n",
       "  </tbody>\n",
       "</table>\n",
       "</div>"
      ],
      "text/plain": [
       "Empty DataFrame\n",
       "Columns: [product_key, product_id, product_name, price, startdate, enddate]\n",
       "Index: []"
      ]
     },
     "execution_count": 24,
     "metadata": {},
     "output_type": "execute_result"
    }
   ],
   "source": [
    "df_product_dim"
   ]
  },
  {
   "cell_type": "code",
   "execution_count": 28,
   "id": "f94ac393-7fc2-47f0-9921-c8e643fd2417",
   "metadata": {},
   "outputs": [
    {
     "data": {
      "text/html": [
       "<div>\n",
       "<style scoped>\n",
       "    .dataframe tbody tr th:only-of-type {\n",
       "        vertical-align: middle;\n",
       "    }\n",
       "\n",
       "    .dataframe tbody tr th {\n",
       "        vertical-align: top;\n",
       "    }\n",
       "\n",
       "    .dataframe thead th {\n",
       "        text-align: right;\n",
       "    }\n",
       "</style>\n",
       "<table border=\"1\" class=\"dataframe\">\n",
       "  <thead>\n",
       "    <tr style=\"text-align: right;\">\n",
       "      <th></th>\n",
       "      <th>product_id</th>\n",
       "      <th>product_name</th>\n",
       "      <th>price</th>\n",
       "    </tr>\n",
       "  </thead>\n",
       "  <tbody>\n",
       "    <tr>\n",
       "      <th>0</th>\n",
       "      <td>1</td>\n",
       "      <td>Iphone13</td>\n",
       "      <td>55000</td>\n",
       "    </tr>\n",
       "    <tr>\n",
       "      <th>1</th>\n",
       "      <td>2</td>\n",
       "      <td>Samsung</td>\n",
       "      <td>40000</td>\n",
       "    </tr>\n",
       "  </tbody>\n",
       "</table>\n",
       "</div>"
      ],
      "text/plain": [
       "   product_id product_name  price\n",
       "0           1     Iphone13  55000\n",
       "1           2      Samsung  40000"
      ]
     },
     "execution_count": 28,
     "metadata": {},
     "output_type": "execute_result"
    }
   ],
   "source": [
    "df_products"
   ]
  },
  {
   "cell_type": "code",
   "execution_count": 40,
   "id": "c7c17c41-f69d-44a7-a6bb-ffa07951a24d",
   "metadata": {},
   "outputs": [],
   "source": [
    "df_merge=transform()"
   ]
  },
  {
   "cell_type": "code",
   "execution_count": 31,
   "id": "5fa317e2-495d-4148-a076-e44ac82ce275",
   "metadata": {},
   "outputs": [
    {
     "data": {
      "text/html": [
       "<div>\n",
       "<style scoped>\n",
       "    .dataframe tbody tr th:only-of-type {\n",
       "        vertical-align: middle;\n",
       "    }\n",
       "\n",
       "    .dataframe tbody tr th {\n",
       "        vertical-align: top;\n",
       "    }\n",
       "\n",
       "    .dataframe thead th {\n",
       "        text-align: right;\n",
       "    }\n",
       "</style>\n",
       "<table border=\"1\" class=\"dataframe\">\n",
       "  <thead>\n",
       "    <tr style=\"text-align: right;\">\n",
       "      <th></th>\n",
       "      <th>product_id</th>\n",
       "      <th>product_name_x</th>\n",
       "      <th>price_x</th>\n",
       "      <th>product_key</th>\n",
       "      <th>product_name_y</th>\n",
       "      <th>price_y</th>\n",
       "      <th>startdate</th>\n",
       "      <th>enddate</th>\n",
       "    </tr>\n",
       "  </thead>\n",
       "  <tbody>\n",
       "  </tbody>\n",
       "</table>\n",
       "</div>"
      ],
      "text/plain": [
       "Empty DataFrame\n",
       "Columns: [product_id, product_name_x, price_x, product_key, product_name_y, price_y, startdate, enddate]\n",
       "Index: []"
      ]
     },
     "execution_count": 31,
     "metadata": {},
     "output_type": "execute_result"
    }
   ],
   "source": [
    "df_merge"
   ]
  },
  {
   "cell_type": "code",
   "execution_count": 41,
   "id": "ac5d9abc-9543-4007-8b0e-299880a84a6f",
   "metadata": {},
   "outputs": [],
   "source": [
    "\n",
    "#first time\n",
    "df_products[\"startdate\"]='2025-05-01'\n",
    "df_products[\"enddate\"]='9999-12-31'"
   ]
  },
  {
   "cell_type": "code",
   "execution_count": 42,
   "id": "2c82ff5d-bcf2-4369-94a3-68541fb1149b",
   "metadata": {},
   "outputs": [
    {
     "data": {
      "text/html": [
       "<div>\n",
       "<style scoped>\n",
       "    .dataframe tbody tr th:only-of-type {\n",
       "        vertical-align: middle;\n",
       "    }\n",
       "\n",
       "    .dataframe tbody tr th {\n",
       "        vertical-align: top;\n",
       "    }\n",
       "\n",
       "    .dataframe thead th {\n",
       "        text-align: right;\n",
       "    }\n",
       "</style>\n",
       "<table border=\"1\" class=\"dataframe\">\n",
       "  <thead>\n",
       "    <tr style=\"text-align: right;\">\n",
       "      <th></th>\n",
       "      <th>product_id</th>\n",
       "      <th>product_name</th>\n",
       "      <th>price</th>\n",
       "      <th>startdate</th>\n",
       "      <th>enddate</th>\n",
       "    </tr>\n",
       "  </thead>\n",
       "  <tbody>\n",
       "    <tr>\n",
       "      <th>0</th>\n",
       "      <td>100</td>\n",
       "      <td>Iphone13</td>\n",
       "      <td>55000</td>\n",
       "      <td>2025-05-01</td>\n",
       "      <td>9999-12-31</td>\n",
       "    </tr>\n",
       "    <tr>\n",
       "      <th>1</th>\n",
       "      <td>200</td>\n",
       "      <td>Samsung</td>\n",
       "      <td>40000</td>\n",
       "      <td>2025-05-01</td>\n",
       "      <td>9999-12-31</td>\n",
       "    </tr>\n",
       "  </tbody>\n",
       "</table>\n",
       "</div>"
      ],
      "text/plain": [
       "   product_id product_name  price   startdate     enddate\n",
       "0         100     Iphone13  55000  2025-05-01  9999-12-31\n",
       "1         200      Samsung  40000  2025-05-01  9999-12-31"
      ]
     },
     "execution_count": 42,
     "metadata": {},
     "output_type": "execute_result"
    }
   ],
   "source": [
    "df_products"
   ]
  },
  {
   "cell_type": "code",
   "execution_count": 43,
   "id": "d2ddc97b-53a2-4af2-84c7-66139221b072",
   "metadata": {},
   "outputs": [],
   "source": [
    "#insert into dim\n",
    "df_products.to_sql(\"product_dim\",con=conn,index=False,if_exists=\"append\")\n",
    "conn.commit()"
   ]
  },
  {
   "cell_type": "code",
   "execution_count": 52,
   "id": "738e2192-fe50-4c26-b83d-de726c4a2df7",
   "metadata": {},
   "outputs": [],
   "source": [
    "def extract():\n",
    "   df_products=pd.read_csv(\"products.txt\")\n",
    "   df_product_dim = pd.read_sql_query(\"select * from product_dim where enddate='9999-12-31'\" ,conn)\n",
    "   return (df_products,df_product_dim)\n",
    "\n",
    "def transform(df_products,df_product_dim):\n",
    "    df_merged = pd.merge(df_products , df_product_dim , how='inner' , on = 'product_id')\n",
    "    update_rows= df_merged['product_key']\n",
    "    keys = update_rows.to_list()\n",
    "    product_keys= ','.join([str(key) for key in keys])\n",
    "    return product_keys\n",
    "\n",
    "def updates(product_keys):\n",
    "    query = sal.text(\"update product_dim set enddate =  cast(getdate()-1 as date) where product_key in (\" + product_keys + \")\")\n",
    "    p = conn.execute(query)\n",
    "    conn.commit()    \n",
    "    \n",
    "def inserts(df_products):\n",
    "    df_products[\"startdate\"]=pd.to_datetime('now').strftime('%Y-%m-%d')\n",
    "    df_products[\"enddate\"]='9999-12-31'\n",
    "    df_insert= df_products.to_sql(\"product_dim\",con=conn,index=False,if_exists=\"append\")\n",
    "    conn.commit()\n",
    "    return (df_insert)"
   ]
  },
  {
   "cell_type": "code",
   "execution_count": 53,
   "id": "55e65814-70c0-4570-9403-0a0c3ce7bdaf",
   "metadata": {},
   "outputs": [
    {
     "data": {
      "text/plain": [
       "2"
      ]
     },
     "execution_count": 53,
     "metadata": {},
     "output_type": "execute_result"
    }
   ],
   "source": [
    "df_products,df_product_dim = extract()\n",
    "\n",
    "#%%\n",
    "product_keys = transform(df_products,df_product_dim)\n",
    "\n",
    "#product_keys= transform(df_products,df_product_dim)\n",
    "#%%\n",
    "if product_keys != '':\n",
    "    updates(product_keys)\n",
    "#%%\n",
    "inserts(df_products)\n"
   ]
  },
  {
   "cell_type": "code",
   "execution_count": null,
   "id": "98cd8a9f-e574-4544-a133-3504ba43eafa",
   "metadata": {},
   "outputs": [],
   "source": []
  }
 ],
 "metadata": {
  "kernelspec": {
   "display_name": "Python 3 (ipykernel)",
   "language": "python",
   "name": "python3"
  },
  "language_info": {
   "codemirror_mode": {
    "name": "ipython",
    "version": 3
   },
   "file_extension": ".py",
   "mimetype": "text/x-python",
   "name": "python",
   "nbconvert_exporter": "python",
   "pygments_lexer": "ipython3",
   "version": "3.13.3"
  }
 },
 "nbformat": 4,
 "nbformat_minor": 5
}
