{
 "cells": [
  {
   "cell_type": "code",
   "execution_count": 20,
   "id": "9168066c-076d-46db-9aca-ef396c8dec01",
   "metadata": {},
   "outputs": [],
   "source": [
    "#pip install sqlalchemy\n",
    "#pip install pyodbc\n",
    "\n",
    "import pandas as pd\n",
    "import sqlalchemy as sal"
   ]
  },
  {
   "cell_type": "code",
   "execution_count": 21,
   "id": "743037f8-5b98-4475-b74e-02fa896db6e6",
   "metadata": {},
   "outputs": [],
   "source": [
    "engine=sal.create_engine(r\"mssql://KALIVARUN\\MSSQL/master?driver=ODBC+DRIVER+17+FOR+SQL+SERVER\")\n",
    "conn= engine.connect()"
   ]
  },
  {
   "cell_type": "code",
   "execution_count": 38,
   "id": "26d6bb70-331c-4ad6-9340-5eeaf35f862d",
   "metadata": {},
   "outputs": [],
   "source": [
    "def extract():\n",
    "    df_products=pd.read_csv(\"products.txt\")\n",
    "    df_products_db=pd.read_sql_query(\"select * from products\",conn)\n",
    "    return df_products,df_products_db\n",
    "\n",
    "\n",
    "def transform(df_products,df_products_db):\n",
    "    df_merge=pd.merge(df_products,df_products_db,how=\"left\",left_on = \"product_id\",right_on=\"product_id\")\n",
    "    df_insert=df_merge[df_merge[\"product_name_y\"].isna()]\n",
    "    df_insert_final=df_insert.iloc[:,0:3]\n",
    "    df_insert_final.columns=df_products_db.columns\n",
    "\n",
    "    df_update=df_merge[df_merge[\"product_name_y\"].notna()]\n",
    "    df_update_final=df_update.iloc[:,0:3]\n",
    "    df_update_final.columns=df_products_db.columns\n",
    "    return df_insert_final,df_update_final\n",
    "\n",
    "\n",
    "def load_staging(df_update_final):\n",
    "    df_update_final.to_sql(\"products_stg\",con=conn,index=False,if_exists=\"replace\")\n",
    "    conn.commit()\n",
    "\n",
    "def updates():\n",
    "    query=sal.text(\"update products set price = products_stg.price, product_name=products_stg.product_name from products_stg where products.product_id=products_stg.product_id\")\n",
    "    p=conn.execute(query)\n",
    "    conn.commit()\n",
    "\n",
    "def inserts(df_insert_final):\n",
    "    df_insert_final.to_sql(\"products\",con=conn,index=False,if_exists=\"append\")\n",
    "    conn.commit()\n",
    "\n",
    "\n",
    "    \n",
    "    \n",
    "\n",
    "    "
   ]
  },
  {
   "cell_type": "code",
   "execution_count": 39,
   "id": "efe443b9-6dff-4935-9107-e25f102d57e7",
   "metadata": {},
   "outputs": [],
   "source": [
    "df_products,df_products_db= extract()\n",
    "\n",
    "df_insert_final,df_update_final =transform(df_products,df_products_db)\n",
    "\n",
    "load_staging(df_update_final)\n",
    "\n",
    "inserts(df_insert_final)\n",
    "\n",
    "updates()"
   ]
  },
  {
   "cell_type": "code",
   "execution_count": 36,
   "id": "766686dd-53a1-451b-b3f1-68d7fde4a973",
   "metadata": {},
   "outputs": [],
   "source": [
    "def extract():\n",
    "    df_products = pd.read_csv('products.txt')\n",
    "    df_products_db = pd.read_sql_query('select * from products' , conn)\n",
    "    return df_products,df_products_db\n",
    "\n",
    "def transform(df_products,df_products_db):\n",
    "    df_merged = pd.merge(df_products , df_products_db , how='left' , on = 'product_id')\n",
    "    df_insert = df_merged[df_merged['product_name_y'].isna()]\n",
    "    df_insert_final =  df_insert.iloc[: , 0:3]\n",
    "    df_insert_final.columns = df_products_db.columns\n",
    "    \n",
    "    df_update = df_merged[df_merged['product_name_y'].notna()]\n",
    "    df_update_final =  df_update.iloc[: , 0:3]\n",
    "    df_update_final.columns = df_products_db.columns\n",
    "    return df_insert_final,df_update_final\n",
    "\n",
    "def load_staging(df_update_final):\n",
    "    df_update_final.to_sql('products_stg',con=conn , index=False , if_exists = 'replace')\n",
    "    conn.commit()\n",
    "\n",
    "def updates():\n",
    "    query = sal.text(\"update products set price = products_stg.price, product_name=products_stg.product_name from products_stg where products.product_id=products_stg.product_id\")\n",
    "    p = conn.execute(query)\n",
    "    conn.commit()\n",
    "    \n",
    "def inserts(df_insert_final):\n",
    "    df_insert_final.to_sql('products',con=conn , index=False , if_exists = 'append')\n",
    "    conn.commit()"
   ]
  },
  {
   "cell_type": "code",
   "execution_count": 37,
   "id": "a18d70aa-a220-4491-aae5-802345a6e160",
   "metadata": {},
   "outputs": [],
   "source": [
    "df_products,df_products_db = extract()\n",
    "\n",
    "df_insert_final,df_update_final = transform(df_products,df_products_db)\n",
    "\n",
    "load_staging(df_update_final)\n",
    "\n",
    "inserts(df_insert_final)\n",
    "\n",
    "updates()"
   ]
  },
  {
   "cell_type": "code",
   "execution_count": null,
   "id": "8d8b867b-3a34-43fa-a7ed-8d428feb4390",
   "metadata": {},
   "outputs": [],
   "source": []
  }
 ],
 "metadata": {
  "kernelspec": {
   "display_name": "Python 3 (ipykernel)",
   "language": "python",
   "name": "python3"
  },
  "language_info": {
   "codemirror_mode": {
    "name": "ipython",
    "version": 3
   },
   "file_extension": ".py",
   "mimetype": "text/x-python",
   "name": "python",
   "nbconvert_exporter": "python",
   "pygments_lexer": "ipython3",
   "version": "3.13.3"
  }
 },
 "nbformat": 4,
 "nbformat_minor": 5
}
